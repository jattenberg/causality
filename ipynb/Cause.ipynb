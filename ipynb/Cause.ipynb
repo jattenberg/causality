{
 "cells": [
  {
   "cell_type": "markdown",
   "metadata": {},
   "source": [
    "See: https://medium.com/@akelleh/causal-inference-with-pandas-dataframes-fc3e64fce5d and https://github.com/akelleh/causality"
   ]
  },
  {
   "cell_type": "code",
   "execution_count": 1,
   "metadata": {
    "collapsed": true
   },
   "outputs": [],
   "source": [
    "%matplotlib inline\n",
    "import numpy as np\n",
    "import matplotlib.pyplot as plt\n",
    "\n",
    "import pandas as pd\n",
    "\n",
    "plt.style.use(\"ggplot\")"
   ]
  },
  {
   "cell_type": "code",
   "execution_count": 2,
   "metadata": {},
   "outputs": [
    {
     "name": "stderr",
     "output_type": "stream",
     "text": [
      "/Users/jattenberg/anaconda2/lib/python2.7/site-packages/statsmodels/compat/pandas.py:56: FutureWarning: The pandas.core.datetools module is deprecated and will be removed in a future version. Please use the pandas.tseries module instead.\n",
      "  from pandas.core import datetools\n"
     ]
    }
   ],
   "source": [
    "from causality.inference.search import IC\n",
    "from causality.inference.independence_tests import RobustRegressionTest\n"
   ]
  },
  {
   "cell_type": "code",
   "execution_count": 3,
   "metadata": {},
   "outputs": [
    {
     "data": {
      "text/plain": [
       "[('x2', 'x1', {'arrows': [], 'marked': False}),\n",
       " ('x2', 'x4', {'arrows': ['x4'], 'marked': False}),\n",
       " ('x3', 'x1', {'arrows': ['x3'], 'marked': False}),\n",
       " ('x3', 'x4', {'arrows': ['x4', 'x4'], 'marked': True}),\n",
       " ('x3', 'x5', {'arrows': ['x3', 'x5'], 'marked': False}),\n",
       " ('x4', 'x5', {'arrows': ['x5'], 'marked': True})]"
      ]
     },
     "execution_count": 3,
     "metadata": {},
     "output_type": "execute_result"
    }
   ],
   "source": [
    "# generate some toy data:\n",
    "SIZE = 2000\n",
    "x1 = np.random.normal(size=SIZE)\n",
    "x2 = x1 + np.random.normal(size=SIZE)\n",
    "x3 = x1 + np.random.normal(size=SIZE)\n",
    "x4 = x2 + x3 + np.random.normal(size=SIZE)\n",
    "x5 = x4 + np.random.normal(size=SIZE)\n",
    "\n",
    "# load the data into a dataframe:\n",
    "X = pd.DataFrame({'x1' : x1, 'x2' : x2, 'x3' : x3, 'x4' : x4, 'x5' : x5})\n",
    "\n",
    "# define the variable types: 'c' is 'continuous'.  The variables defined here\n",
    "# are the ones the search is performed over  -- NOT all the variables defined\n",
    "# in the data frame.\n",
    "variable_types = {'x1' : 'c', 'x2' : 'c', 'x3' : 'c', 'x4' : 'c', 'x5' : 'c'}\n",
    "\n",
    "# run the search\n",
    "ic_algorithm = IC(RobustRegressionTest)\n",
    "graph = ic_algorithm.search(X, variable_types)\n",
    "graph.edges(data=True)"
   ]
  },
  {
   "cell_type": "code",
   "execution_count": 4,
   "metadata": {},
   "outputs": [
    {
     "name": "stdout",
     "output_type": "stream",
     "text": [
      "set(['x1'])\n"
     ]
    }
   ],
   "source": [
    "from causality.estimation.adjustments import AdjustForDirectCauses\n",
    "from networkx import DiGraph\n",
    "\n",
    "g = DiGraph()\n",
    "\n",
    "g.add_nodes_from(['x1','x2','x3','x4', 'x5'])\n",
    "g.add_edges_from([('x1','x2'),('x1','x3'),('x2','x4'),('x3','x4')])\n",
    "adjustment = AdjustForDirectCauses()\n",
    "print adjustment.admissable_set(g,['x2'], ['x3'])"
   ]
  },
  {
   "cell_type": "code",
   "execution_count": 5,
   "metadata": {},
   "outputs": [],
   "source": [
    "from causality.estimation.nonparametric import CausalEffect\n",
    "admissable_list = list(adjustment.admissable_set(g,['x2'], ['x3']))\n",
    "effect = CausalEffect(X, ['x2'], ['x3'], variable_types=variable_types, admissable_set=admissable_list)"
   ]
  },
  {
   "cell_type": "code",
   "execution_count": 6,
   "metadata": {},
   "outputs": [
    {
     "data": {
      "text/plain": [
       "0.2780128871117751"
      ]
     },
     "execution_count": 6,
     "metadata": {},
     "output_type": "execute_result"
    }
   ],
   "source": [
    "x = pd.DataFrame({'x2' : [0.], 'x3' : [0.]})\n",
    "effect.pdf(x)"
   ]
  },
  {
   "cell_type": "code",
   "execution_count": null,
   "metadata": {
    "collapsed": true
   },
   "outputs": [],
   "source": []
  }
 ],
 "metadata": {
  "kernelspec": {
   "display_name": "Python [conda root]",
   "language": "python",
   "name": "conda-root-py"
  },
  "language_info": {
   "codemirror_mode": {
    "name": "ipython",
    "version": 2
   },
   "file_extension": ".py",
   "mimetype": "text/x-python",
   "name": "python",
   "nbconvert_exporter": "python",
   "pygments_lexer": "ipython2",
   "version": "2.7.13"
  }
 },
 "nbformat": 4,
 "nbformat_minor": 2
}
